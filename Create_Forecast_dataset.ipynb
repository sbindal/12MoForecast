{
 "cells": [
  {
   "cell_type": "code",
   "execution_count": 44,
   "metadata": {},
   "outputs": [],
   "source": [
    "import yfinance as yf\n",
    "import matplotlib.pyplot as plt\n",
    "import pandas as pd\n",
    "import numpy as np\n",
    "import datetime\n",
    "from pandas_datareader import data\n",
    "from datetime import datetime, timedelta\n",
    "import requests\n",
    "from bs4 import BeautifulSoup\n",
    "import re\n",
    "import json\n"
   ]
  },
  {
   "cell_type": "code",
   "execution_count": 45,
   "metadata": {},
   "outputs": [],
   "source": [
    "def get_12Moforecast(tick):\n",
    "    \"\"\"\n",
    "    Takes in a tick sign and date variable and gets the historical dividend dates for that tick symbal AFTER the data input.\n",
    "    Outputs: dataframe with these columns:\n",
    "    'exOrEffDate', 'type', 'amount', 'declarationDate', 'recordDate','paymentDate', 'Tick'\n",
    "    \"\"\"\n",
    "    \n",
    "    #need headers otherwise they will think you are a bot \n",
    "    headers = { \"Accept\": \"text/html,application/xhtml+xml,application/xml;q=0.9,image/avif,image/webp,image/apng,*/*;q=0.8,application/signed-exchange;v=b3;q=0.9\", \n",
    "            \"Upgrade-Insecure-Requests\": \"1\",\n",
    "            \"User-Agent\":\"Mozilla/5.0 (X11; Linux x86_64) AppleWebKit/537.36 (KHTML, like Gecko) Chrome/86.0.4240.183 Safari/537.36 RuxitSynthetic/1.0 v7992529445 t38550 ath9b965f92 altpub cvcv=2\"\n",
    "        }\n",
    "\n",
    "    url = \"https://money.cnn.com/quote/forecast/forecast.html?symb={}\".format(tick)\n",
    "    response = requests.get(url,headers=headers)\n",
    "    \n",
    "    return response"
   ]
  },
  {
   "cell_type": "code",
   "execution_count": 47,
   "metadata": {},
   "outputs": [],
   "source": [
    "def parse_12Moforecast(tick, response):\n",
    "\n",
    "    html_text = response.text\n",
    "    \n",
    "    columnNames = ['tick', 'Analysts', 'Recommendation', 'Median', 'High', 'Low', 'Growth', 'Last']\n",
    "    \n",
    "    soup = BeautifulSoup(html_text, \"html.parser\")\n",
    "    \n",
    "    # find all div elements that are inside a div element\n",
    "    # and are proceeded by an h3 element\n",
    "    selector = 'div > h3 ~ div'\n",
    "    \n",
    "    divs = soup.select(selector)\n",
    "    \n",
    "    # Extract data from the found elements\n",
    "    data = [x.text.split(';')[-1].strip() for x in divs]\n",
    "    \n",
    "    df = pd.DataFrame(columns = columnNames)\n",
    "\n",
    "    for x in data:\n",
    "        \n",
    "        if (x.find(\"12-month price forecasts for\") > 0):\n",
    "            matches = re.findall(r'[\\d\\.\\d]+', x)\n",
    "            df.loc[1, 'Median'] = matches[2]\n",
    "            df.loc[1, 'High'] = matches[3]\n",
    "            df.loc[1, 'Low'] = matches[4]\n",
    "            df.loc[1, 'Growth'] = matches[5]\n",
    "            df.loc[1, 'Last'] = matches[6]\n",
    "            \n",
    "        if (x.startswith(\"The current consensus among\") == 1):\n",
    "            match = re.findall(r'[\\d\\.\\d]+', x)    \n",
    "            df.loc[1, 'Analysts'] = match[1]\n",
    "            if (x.find('is to Hold stock') > 0):\n",
    "                df.loc[1, 'Recommendation'] = 'Hold'\n",
    "            if (x.find('is to Buy stock') > 0):\n",
    "                df.loc[1, 'Recommendation'] = 'Buy'\n",
    "            if (x.find('is to Sell stock') > 0):\n",
    "                df.loc[1, 'Recommendation'] = 'Sell'\n",
    "    \n",
    "    df.loc[1, 'tick'] = tick\n",
    "           \n",
    "    return df\n"
   ]
  },
  {
   "cell_type": "code",
   "execution_count": 48,
   "metadata": {},
   "outputs": [],
   "source": [
    "def get_tickers():\n",
    "\n",
    "    #need headers otherwise they will think you are a bot \n",
    "    headers = { \"Accept\": \"text/html,application/xhtml+xml,application/xml;q=0.9,image/avif,image/webp,image/apng,*/*;q=0.8,application/signed-exchange;v=b3;q=0.9\", \n",
    "            \"Upgrade-Insecure-Requests\": \"1\",\n",
    "            \"User-Agent\":\"Mozilla/5.0 (X11; Linux x86_64) AppleWebKit/537.36 (KHTML, like Gecko) Chrome/86.0.4240.183 Safari/537.36 RuxitSynthetic/1.0 v7992529445 t38550 ath9b965f92 altpub cvcv=2\"\n",
    "        }\n",
    "\n",
    "    url = \"https://www.thestreet.com/util/ratings-screener.jsp?wt=json&rows=100000&indent=off&q=type:equity+AND+LetterGradeSort:[+80+TO+100+]+AND+Growth:[+0+TO+5+]++AND+TotalReturn:[+0+TO+5+]++AND+Efficiency:[+0+TO+5+]++AND+Pricevolatility:[+0+TO+5+]++AND+Solvency:[+0+TO+5+]++AND+Income:[+0+TO+5+]+&fl=ticker,issue_name,LetterGradeRating,CurrentRating,LetterGradeSort,type,Risk,recommendation,exchange&sort=ticker+asc\"\n",
    "    response = requests.get(url,headers=headers)\n",
    "\n",
    "    json_data = json.loads(response.text)\n",
    "\n",
    "    json_divs = json_data['response']['docs']\n",
    "    df = pd.json_normalize(json_divs)\n",
    "        \n",
    "    return df"
   ]
  },
  {
   "cell_type": "code",
   "execution_count": null,
   "metadata": {},
   "outputs": [
    {
     "name": "stdout",
     "output_type": "stream",
     "text": [
      "Ticker:A Growth:1.58%\n",
      "Ticker:AAP Growth:4.71%\n",
      "Ticker:AAPL Growth:4.81%\n",
      "Ticker:AB Growth:5.85%\n",
      "Ticker:ABBV Growth:7.97%\n",
      "Ticker:ABG Growth:17.5%\n",
      "Ticker:ABT Growth:12.11%\n",
      "   tick Analysts Recommendation Median  High     Low Growth   Last\n",
      "1  ACCO        .            Buy   12.0  14.0  10.00.  33.19  9.01.\n",
      "Ticker:ACCO Growth:33.19%\n",
      "Ticker:ACGL Growth:9.95%\n",
      "Ticker:ACMR Growth:25.14%\n",
      "Ticker:ACN Growth:9.51%\n",
      "Ticker:ADBE Growth:20.96%\n"
     ]
    }
   ],
   "source": [
    "dfs = []\n",
    "ticks = []\n",
    "ticks = get_tickers()\n",
    "\n",
    "for stock in ticks['ticker']:\n",
    "    response = get_12Moforecast(stock)\n",
    "    df = parse_12Moforecast(stock, response)\n",
    "    \n",
    "    if (df.loc[1, 'Recommendation'] == ('Buy')): \n",
    "        try:\n",
    "            float_growth = float(df.loc[1, 'Growth'])\n",
    "            # only interested if median growth > 30%\n",
    "            if(float_growth >= 30.0):\n",
    "\n",
    "                print(\"Ticker:{} Growth:{}%\".format(stock, float_growth))\n",
    "print(df)\n",
    "                dfs.append(df)   \n",
    "        \n",
    "        except ValueError:\n",
    "            print(\"Oops!  Value for {} ticker can't be converted to float - {}\".format(stock, df.loc[1, 'Growth']))\n",
    "            print(df)\n",
    "        \n"
   ]
  },
  {
   "cell_type": "code",
   "execution_count": null,
   "metadata": {},
   "outputs": [],
   "source": [
    "result = pd.concat(dfs, ignore_index=True)\n",
    "result.to_csv('12MoForecast.csv',index=False)\n",
    "result"
   ]
  },
  {
   "cell_type": "code",
   "execution_count": null,
   "metadata": {},
   "outputs": [],
   "source": []
  }
 ],
 "metadata": {
  "kernelspec": {
   "display_name": "Python 3",
   "language": "python",
   "name": "python3"
  },
  "language_info": {
   "codemirror_mode": {
    "name": "ipython",
    "version": 3
   },
   "file_extension": ".py",
   "mimetype": "text/x-python",
   "name": "python",
   "nbconvert_exporter": "python",
   "pygments_lexer": "ipython3",
   "version": "3.9.1"
  }
 },
 "nbformat": 4,
 "nbformat_minor": 4
}
