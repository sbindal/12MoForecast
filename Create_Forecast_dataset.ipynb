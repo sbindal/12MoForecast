{
 "cells": [
  {
   "cell_type": "code",
   "execution_count": 70,
   "metadata": {},
   "outputs": [],
   "source": [
    "import yfinance as yf\n",
    "import matplotlib.pyplot as plt\n",
    "import pandas as pd\n",
    "import numpy as np\n",
    "import datetime\n",
    "from pandas_datareader import data\n",
    "from datetime import datetime, timedelta\n",
    "import requests\n",
    "from bs4 import BeautifulSoup\n",
    "import re\n",
    "import json\n"
   ]
  },
  {
   "cell_type": "code",
   "execution_count": 71,
   "metadata": {},
   "outputs": [],
   "source": [
    "def get_12Moforecast(tick):\n",
    "    \"\"\"\n",
    "    Takes in a tick sign and date variable and gets the historical dividend dates for that tick symbal AFTER the data input.\n",
    "    Outputs: dataframe with these columns:\n",
    "    'exOrEffDate', 'type', 'amount', 'declarationDate', 'recordDate','paymentDate', 'Tick'\n",
    "    \"\"\"\n",
    "    \n",
    "    #need headers otherwise they will think you are a bot \n",
    "    headers = { \"Accept\": \"text/html,application/xhtml+xml,application/xml;q=0.9,image/avif,image/webp,image/apng,*/*;q=0.8,application/signed-exchange;v=b3;q=0.9\", \n",
    "            \"Upgrade-Insecure-Requests\": \"1\",\n",
    "            \"User-Agent\":\"Mozilla/5.0 (X11; Linux x86_64) AppleWebKit/537.36 (KHTML, like Gecko) Chrome/86.0.4240.183 Safari/537.36 RuxitSynthetic/1.0 v7992529445 t38550 ath9b965f92 altpub cvcv=2\"\n",
    "        }\n",
    "\n",
    "    url = \"https://money.cnn.com/quote/forecast/forecast.html?symb={}\".format(tick)\n",
    "    response = requests.get(url,headers=headers)\n",
    "    \n",
    "    return response"
   ]
  },
  {
   "cell_type": "code",
   "execution_count": null,
   "metadata": {},
   "outputs": [],
   "source": [
    "def parse_12Moforecast(tick, response):\n",
    "\n",
    "    html_text = response.text\n",
    "    \n",
    "    columnNames = ['tick', 'Analysts', 'Recommendation', 'Median', 'High', 'Low', 'Growth', 'Last']\n",
    "    \n",
    "    soup = BeautifulSoup(html_text, \"html.parser\")\n",
    "    \n",
    "    # find all div elements that are inside a div element\n",
    "    # and are proceeded by an h3 element\n",
    "    selector = 'div > h3 ~ div'\n",
    "    \n",
    "    divs = soup.select(selector)\n",
    "    \n",
    "    # Extract data from the found elements\n",
    "    data = [x.text.split(';')[-1].strip() for x in divs]\n",
    "    \n",
    "    df = pd.DataFrame(columns = columnNames)\n",
    "\n",
    "    for x in data:\n",
    "        \n",
    "        if (x.find(\"12-month price forecasts for\") > 0):\n",
    "            print(x)\n",
    "#            matches = re.findall(r'[\\d\\.\\d]+', x)\n",
    "            matches = re.findall(r'[^-?\\d*(\\.\\d+)?$]', x)\n",
    "            print(matches)\n",
    "            df.loc[1, 'Median'] = matches[2]\n",
    "            df.loc[1, 'High'] = matches[3]\n",
    "            df.loc[1, 'Low'] = matches[4]\n",
    "            df.loc[1, 'Growth'] = matches[5]\n",
    "            df.loc[1, 'Last'] = matches[6]\n",
    "            \n",
    "        if (x.startswith(\"The current consensus among\") == 1):\n",
    "            match = re.findall(r'[\\d\\.\\d]+', x)    \n",
    "            df.loc[1, 'Analysts'] = match[1]\n",
    "            if (x.find('is to Hold stock') > 0):\n",
    "                df.loc[1, 'Recommendation'] = 'Hold'\n",
    "            if (x.find('is to Buy stock') > 0):\n",
    "                df.loc[1, 'Recommendation'] = 'Buy'\n",
    "            if (x.find('is to Sell stock') > 0):\n",
    "                df.loc[1, 'Recommendation'] = 'Sell'\n",
    "    \n",
    "    df.loc[1, 'tick'] = tick\n",
    "           \n",
    "    return df\n"
   ]
  },
  {
   "cell_type": "code",
   "execution_count": 78,
   "metadata": {},
   "outputs": [],
   "source": [
    "def get_tickers():\n",
    "\n",
    "    #need headers otherwise they will think you are a bot \n",
    "    headers = { \"Accept\": \"text/html,application/xhtml+xml,application/xml;q=0.9,image/avif,image/webp,image/apng,*/*;q=0.8,application/signed-exchange;v=b3;q=0.9\", \n",
    "            \"Upgrade-Insecure-Requests\": \"1\",\n",
    "            \"User-Agent\":\"Mozilla/5.0 (X11; Linux x86_64) AppleWebKit/537.36 (KHTML, like Gecko) Chrome/86.0.4240.183 Safari/537.36 RuxitSynthetic/1.0 v7992529445 t38550 ath9b965f92 altpub cvcv=2\"\n",
    "        }\n",
    "\n",
    "    url = \"https://www.thestreet.com/util/ratings-screener.jsp?wt=json&rows=100000&indent=off&q=type:equity+AND+LetterGradeSort:[+80+TO+100+]+AND+Growth:[+0+TO+5+]++AND+TotalReturn:[+0+TO+5+]++AND+Efficiency:[+0+TO+5+]++AND+Pricevolatility:[+0+TO+5+]++AND+Solvency:[+0+TO+5+]++AND+Income:[+0+TO+5+]+&fl=ticker,issue_name,LetterGradeRating,CurrentRating,LetterGradeSort,type,Risk,recommendation,exchange&sort=ticker+asc\"\n",
    "    response = requests.get(url,headers=headers)\n",
    "\n",
    "    json_data = json.loads(response.text)\n",
    "\n",
    "    json_divs = json_data['response']['docs']\n",
    "    df = pd.json_normalize(json_divs)\n",
    "        \n",
    "    return df"
   ]
  },
  {
   "cell_type": "code",
   "execution_count": null,
   "metadata": {},
   "outputs": [
    {
     "name": "stdout",
     "output_type": "stream",
     "text": [
      "['16', '12', '125.00', '132.00', '106.00.', '1.58', '127.01.']\n",
      "['17', '12', '185.00', '202.00', '128.00.', '4.71', '176.68.']\n",
      "['37', '12', '135.00', '160.00', '74.10.', '4.81', '128.81.']\n",
      "['7', '12', '38.00', '40.00', '33.00.', '5.85', '35.90.']\n",
      "['20', '12', '118.50', '135.00', '97.00.', '7.97', '109.75.']\n",
      "['8', '12', '138.50', '180.00', '120.00.', '17.50', '167.87.']\n",
      "['16', '12', '122.00', '135.00', '111.00.', '12.11', '108.82.']\n",
      "['4', '12', '34.00', '37.00', '32.00.', '8.68', '37.23.']\n",
      "['5', '12', '12.00', '14.00', '10.00.', '33.19', '9.01.']\n",
      "   tick Analysts Recommendation Median  High     Low Growth   Last\n",
      "1  ACCO        .            Buy   12.0  14.0  10.00.  33.19  9.01.\n",
      "['10', '12', '40.00', '47.00', '36.00.', '9.95', '36.38.']\n",
      "['7', '12', '125.00', '134.00', '107.00.', '25.14', '99.89.']\n",
      "['25', '12', '282.00', '306.00', '240.00.', '9.51', '257.52.']\n",
      "['22', '12', '570.50', '605.00', '450.00.', '20.96', '471.66.']\n",
      "['12', '12', '76.50', '82.00', '71.00.', '21.91', '62.75.']\n",
      "['20', '12', '159.50', '180.00', '150.00.', '0.31', '159.01.']\n",
      "['11', '12', '55.00', '60.00', '46.00.', '7.00', '51.40.']\n",
      "['18', '12', '167.50', '200.00', '139.00.', '1.02', '169.23.']\n",
      "['18', '12', '302.50', '345.00', '224.00.', '5.49', '320.08.']\n",
      "['8', '12', '130.00', '140.00', '115.00.', '7.14', '121.34.']\n",
      "['11', '12', '88.00', '95.00', '81.00.', '18.49', '74.27.']\n",
      "['9', '12', '115.00', '128.00', '92.00.', '0.67', '114.24.']\n",
      "['18', '12', '93.61', '123.00', '77.00.', '32.78', '70.50.']\n",
      "  tick Analysts Recommendation Median   High     Low Growth    Last\n",
      "1  AEM        .            Buy  93.61  123.0  77.00.  32.78  70.50.\n"
     ]
    }
   ],
   "source": [
    "dfs = []\n",
    "ticks = []\n",
    "ticks = get_tickers()\n",
    "\n",
    "for stock in ticks['ticker']:\n",
    "    response = get_12Moforecast(stock)\n",
    "    df = parse_12Moforecast(stock, response)\n",
    "    \n",
    "    if (df.loc[1, 'Recommendation'] == ('Buy')): \n",
    "        try:\n",
    "            float_growth = float(df.loc[1, 'Growth'])\n",
    "            # only interested if median growth > 30%\n",
    "            if(float_growth >= 30.0):\n",
    "\n",
    "                #print(\"Ticker:{} Growth:{}%\".format(stock, float_growth))\n",
    "                print(df)\n",
    "                dfs.append(df)   \n",
    "        \n",
    "        except ValueError:\n",
    "            print(\"Oops!  Value for {} ticker can't be converted to float - {}\".format(stock, df.loc[1, 'Growth']))        \n"
   ]
  },
  {
   "cell_type": "code",
   "execution_count": 69,
   "metadata": {},
   "outputs": [
    {
     "ename": "ValueError",
     "evalue": "No objects to concatenate",
     "output_type": "error",
     "traceback": [
      "\u001b[0;31m---------------------------------------------------------------------------\u001b[0m",
      "\u001b[0;31mValueError\u001b[0m                                Traceback (most recent call last)",
      "\u001b[0;32m<ipython-input-69-f700a7032e33>\u001b[0m in \u001b[0;36m<module>\u001b[0;34m\u001b[0m\n\u001b[0;32m----> 1\u001b[0;31m \u001b[0mresult\u001b[0m \u001b[0;34m=\u001b[0m \u001b[0mpd\u001b[0m\u001b[0;34m.\u001b[0m\u001b[0mconcat\u001b[0m\u001b[0;34m(\u001b[0m\u001b[0mdfs\u001b[0m\u001b[0;34m,\u001b[0m \u001b[0mignore_index\u001b[0m\u001b[0;34m=\u001b[0m\u001b[0;32mTrue\u001b[0m\u001b[0;34m)\u001b[0m\u001b[0;34m\u001b[0m\u001b[0;34m\u001b[0m\u001b[0m\n\u001b[0m\u001b[1;32m      2\u001b[0m \u001b[0mresult\u001b[0m\u001b[0;34m.\u001b[0m\u001b[0mto_csv\u001b[0m\u001b[0;34m(\u001b[0m\u001b[0;34m'12MoForecast.csv'\u001b[0m\u001b[0;34m,\u001b[0m\u001b[0mindex\u001b[0m\u001b[0;34m=\u001b[0m\u001b[0;32mFalse\u001b[0m\u001b[0;34m)\u001b[0m\u001b[0;34m\u001b[0m\u001b[0;34m\u001b[0m\u001b[0m\n\u001b[1;32m      3\u001b[0m \u001b[0mresult\u001b[0m\u001b[0;34m\u001b[0m\u001b[0;34m\u001b[0m\u001b[0m\n",
      "\u001b[0;32m/usr/local/lib/python3.9/site-packages/pandas/core/reshape/concat.py\u001b[0m in \u001b[0;36mconcat\u001b[0;34m(objs, axis, join, ignore_index, keys, levels, names, verify_integrity, sort, copy)\u001b[0m\n\u001b[1;32m    283\u001b[0m     \u001b[0mValueError\u001b[0m\u001b[0;34m:\u001b[0m \u001b[0mIndexes\u001b[0m \u001b[0mhave\u001b[0m \u001b[0moverlapping\u001b[0m \u001b[0mvalues\u001b[0m\u001b[0;34m:\u001b[0m \u001b[0;34m[\u001b[0m\u001b[0;34m'a'\u001b[0m\u001b[0;34m]\u001b[0m\u001b[0;34m\u001b[0m\u001b[0;34m\u001b[0m\u001b[0m\n\u001b[1;32m    284\u001b[0m     \"\"\"\n\u001b[0;32m--> 285\u001b[0;31m     op = _Concatenator(\n\u001b[0m\u001b[1;32m    286\u001b[0m         \u001b[0mobjs\u001b[0m\u001b[0;34m,\u001b[0m\u001b[0;34m\u001b[0m\u001b[0;34m\u001b[0m\u001b[0m\n\u001b[1;32m    287\u001b[0m         \u001b[0maxis\u001b[0m\u001b[0;34m=\u001b[0m\u001b[0maxis\u001b[0m\u001b[0;34m,\u001b[0m\u001b[0;34m\u001b[0m\u001b[0;34m\u001b[0m\u001b[0m\n",
      "\u001b[0;32m/usr/local/lib/python3.9/site-packages/pandas/core/reshape/concat.py\u001b[0m in \u001b[0;36m__init__\u001b[0;34m(self, objs, axis, join, keys, levels, names, ignore_index, verify_integrity, copy, sort)\u001b[0m\n\u001b[1;32m    340\u001b[0m \u001b[0;34m\u001b[0m\u001b[0m\n\u001b[1;32m    341\u001b[0m         \u001b[0;32mif\u001b[0m \u001b[0mlen\u001b[0m\u001b[0;34m(\u001b[0m\u001b[0mobjs\u001b[0m\u001b[0;34m)\u001b[0m \u001b[0;34m==\u001b[0m \u001b[0;36m0\u001b[0m\u001b[0;34m:\u001b[0m\u001b[0;34m\u001b[0m\u001b[0;34m\u001b[0m\u001b[0m\n\u001b[0;32m--> 342\u001b[0;31m             \u001b[0;32mraise\u001b[0m \u001b[0mValueError\u001b[0m\u001b[0;34m(\u001b[0m\u001b[0;34m\"No objects to concatenate\"\u001b[0m\u001b[0;34m)\u001b[0m\u001b[0;34m\u001b[0m\u001b[0;34m\u001b[0m\u001b[0m\n\u001b[0m\u001b[1;32m    343\u001b[0m \u001b[0;34m\u001b[0m\u001b[0m\n\u001b[1;32m    344\u001b[0m         \u001b[0;32mif\u001b[0m \u001b[0mkeys\u001b[0m \u001b[0;32mis\u001b[0m \u001b[0;32mNone\u001b[0m\u001b[0;34m:\u001b[0m\u001b[0;34m\u001b[0m\u001b[0;34m\u001b[0m\u001b[0m\n",
      "\u001b[0;31mValueError\u001b[0m: No objects to concatenate"
     ]
    }
   ],
   "source": [
    "result = pd.concat(dfs, ignore_index=True)\n",
    "result.to_csv('12MoForecast.csv',index=False)\n",
    "result"
   ]
  },
  {
   "cell_type": "code",
   "execution_count": null,
   "metadata": {},
   "outputs": [],
   "source": []
  }
 ],
 "metadata": {
  "kernelspec": {
   "display_name": "Python 3",
   "language": "python",
   "name": "python3"
  },
  "language_info": {
   "codemirror_mode": {
    "name": "ipython",
    "version": 3
   },
   "file_extension": ".py",
   "mimetype": "text/x-python",
   "name": "python",
   "nbconvert_exporter": "python",
   "pygments_lexer": "ipython3",
   "version": "3.9.1"
  }
 },
 "nbformat": 4,
 "nbformat_minor": 4
}
