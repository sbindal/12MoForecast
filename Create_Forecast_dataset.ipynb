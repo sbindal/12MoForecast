{
 "cells": [
  {
   "cell_type": "code",
   "execution_count": 1,
   "metadata": {},
   "outputs": [],
   "source": [
    "import yfinance as yf\n",
    "import matplotlib.pyplot as plt\n",
    "import pandas as pd\n",
    "import numpy as np\n",
    "import datetime\n",
    "from pandas_datareader import data\n",
    "from datetime import datetime, timedelta\n",
    "import requests\n",
    "from bs4 import BeautifulSoup\n",
    "import re\n",
    "import json\n"
   ]
  },
  {
   "cell_type": "code",
   "execution_count": 2,
   "metadata": {},
   "outputs": [],
   "source": [
    "def get_12Moforecast(tick):\n",
    "    \"\"\"\n",
    "    Takes in a tick sign and date variable and gets the historical dividend dates for that tick symbal AFTER the data input.\n",
    "    Outputs: dataframe with these columns:\n",
    "    'exOrEffDate', 'type', 'amount', 'declarationDate', 'recordDate','paymentDate', 'Tick'\n",
    "    \"\"\"\n",
    "    \n",
    "    #need headers otherwise they will think you are a bot \n",
    "    headers = { \"Accept\": \"text/html,application/xhtml+xml,application/xml;q=0.9,image/avif,image/webp,image/apng,*/*;q=0.8,application/signed-exchange;v=b3;q=0.9\", \n",
    "            \"Upgrade-Insecure-Requests\": \"1\",\n",
    "            \"User-Agent\":\"Mozilla/5.0 (X11; Linux x86_64) AppleWebKit/537.36 (KHTML, like Gecko) Chrome/86.0.4240.183 Safari/537.36 RuxitSynthetic/1.0 v7992529445 t38550 ath9b965f92 altpub cvcv=2\"\n",
    "        }\n",
    "\n",
    "    url = \"https://money.cnn.com/quote/forecast/forecast.html?symb={}\".format(tick)\n",
    "    response = requests.get(url,headers=headers)\n",
    "    \n",
    "    return response"
   ]
  },
  {
   "cell_type": "code",
   "execution_count": 3,
   "metadata": {},
   "outputs": [],
   "source": [
    "def parse_12Moforecast(tick, response):\n",
    "\n",
    "    html_text = response.text\n",
    "    \n",
    "    columnNames = ['tick', 'Analysts', 'Recommendation', 'Median', 'High', 'Low', 'Growth', 'Last']\n",
    "    \n",
    "    soup = BeautifulSoup(html_text, \"html.parser\")\n",
    "    \n",
    "    # find all div elements that are inside a div element\n",
    "    # and are proceeded by an h3 element\n",
    "    selector = 'div > h3 ~ div'\n",
    "    \n",
    "    divs = soup.select(selector)\n",
    "    \n",
    "    # Extract data from the found elements\n",
    "    data = [x.text.split(';')[-1].strip() for x in divs]\n",
    "    \n",
    "    df = pd.DataFrame(columns = columnNames)\n",
    "\n",
    "    for x in data:\n",
    "        \n",
    "        if (x.find(\"12-month price forecasts for\") > 0):\n",
    "            matches = re.findall(r'[\\d\\.\\d]+', x)\n",
    "            df.loc[1, 'Median'] = matches[2]\n",
    "            df.loc[1, 'High'] = matches[3]\n",
    "            df.loc[1, 'Low'] = matches[4]\n",
    "            df.loc[1, 'Growth'] = matches[5]\n",
    "            df.loc[1, 'Last'] = matches[6]\n",
    "            \n",
    "        if (x.startswith(\"The current consensus among\") == 1):\n",
    "            match = re.findall(r'[\\d\\.\\d]+', x)    \n",
    "            df.loc[1, 'Analysts'] = match[1]\n",
    "            if (x.find('is to Hold stock') > 0):\n",
    "                df.loc[1, 'Recommendation'] = 'Hold'\n",
    "            if (x.find('is to Buy stock') > 0):\n",
    "                df.loc[1, 'Recommendation'] = 'Buy'\n",
    "            if (x.find('is to Sell stock') > 0):\n",
    "                df.loc[1, 'Recommendation'] = 'Sell'\n",
    "\n",
    "\n",
    "    \n",
    "    df.loc[1, 'tick'] = tick\n",
    "           \n",
    "    return df\n"
   ]
  },
  {
   "cell_type": "code",
   "execution_count": 20,
   "metadata": {},
   "outputs": [],
   "source": [
    "def get_tickers():\n",
    "\n",
    "    #need headers otherwise they will think you are a bot \n",
    "    headers = { \"Accept\": \"text/html,application/xhtml+xml,application/xml;q=0.9,image/avif,image/webp,image/apng,*/*;q=0.8,application/signed-exchange;v=b3;q=0.9\", \n",
    "            \"Upgrade-Insecure-Requests\": \"1\",\n",
    "            \"User-Agent\":\"Mozilla/5.0 (X11; Linux x86_64) AppleWebKit/537.36 (KHTML, like Gecko) Chrome/86.0.4240.183 Safari/537.36 RuxitSynthetic/1.0 v7992529445 t38550 ath9b965f92 altpub cvcv=2\"\n",
    "        }\n",
    "\n",
    "    url = \"https://www.thestreet.com/util/ratings-screener.jsp?wt=json&rows=200&indent=off&q=type:equity+AND+LetterGradeSort:[+90+TO+100+]+AND+Growth:[+0+TO+5+]++AND+TotalReturn:[+0+TO+5+]++AND+Efficiency:[+0+TO+5+]++AND+Pricevolatility:[+0+TO+5+]++AND+Solvency:[+0+TO+5+]++AND+Income:[+0+TO+5+]+&fl=ticker,issue_name,LetterGradeRating,CurrentRating,LetterGradeSort,type,Risk,recommendation,exchange&sort=ticker+asc\"\n",
    "    response = requests.get(url,headers=headers)\n",
    "\n",
    "    json_data = json.loads(response.text)\n",
    "\n",
    "    json_divs = json_data['response']['docs']\n",
    "    df = pd.json_normalize(json_divs)\n",
    "        \n",
    "    return df"
   ]
  },
  {
   "cell_type": "code",
   "execution_count": null,
   "metadata": {},
   "outputs": [
    {
     "name": "stdout",
     "output_type": "stream",
     "text": [
      "       type ticker                    issue_name exchange CurrentRating  \\\n",
      "0    equity      A      AGILENT TECHNOLOGIES INC     NYSE           Buy   \n",
      "1    equity   ABBV                    ABBVIE INC     NYSE           Buy   \n",
      "2    equity    ABT           ABBOTT LABORATORIES     NYSE           Buy   \n",
      "3    equity    ACN                 ACCENTURE PLC     NYSE           Buy   \n",
      "4    equity   ADBE                     ADOBE INC   NASDAQ           Buy   \n",
      "..      ...    ...                           ...      ...           ...   \n",
      "153  equity  WSO.B                    WATSCO INC     NYSE           Buy   \n",
      "154  equity    WTS  WATTS WATER TECHNOLOGIES INC     NYSE           Buy   \n",
      "155  equity    XEL               XCEL ENERGY INC   NASDAQ           Buy   \n",
      "156  equity   YORW                 YORK WATER CO   NASDAQ           Buy   \n",
      "157  equity   ZBRA         ZEBRA TECHNOLOGIES CP   NASDAQ           Buy   \n",
      "\n",
      "     LetterGradeSort LetterGradeRating  \n",
      "0                 90                A-  \n",
      "1                 90                A-  \n",
      "2                 95                 A  \n",
      "3                 95                 A  \n",
      "4                 90                A-  \n",
      "..               ...               ...  \n",
      "153               90                A-  \n",
      "154               95                 A  \n",
      "155               90                A-  \n",
      "156               95                 A  \n",
      "157               90                A-  \n",
      "\n",
      "[158 rows x 7 columns]\n"
     ]
    }
   ],
   "source": [
    "dfs = []\n",
    "ser = []\n",
    "ser = get_tickers()\n",
    "for stock in ser['ticker']:\n",
    "    response = get_12Moforecast(stock)\n",
    "    df = parse_12Moforecast(stock, response)\n",
    "    dfs.append(df)\n",
    "    \n",
    "    "
   ]
  },
  {
   "cell_type": "code",
   "execution_count": null,
   "metadata": {},
   "outputs": [],
   "source": []
  },
  {
   "cell_type": "code",
   "execution_count": null,
   "metadata": {},
   "outputs": [],
   "source": [
    "result = pd.concat(dfs, ignore_index=True)\n",
    "result.to_csv('12MoForecast.csv',index=False)\n",
    "result"
   ]
  },
  {
   "cell_type": "code",
   "execution_count": null,
   "metadata": {},
   "outputs": [],
   "source": []
  }
 ],
 "metadata": {
  "kernelspec": {
   "display_name": "Python 3",
   "language": "python",
   "name": "python3"
  },
  "language_info": {
   "codemirror_mode": {
    "name": "ipython",
    "version": 3
   },
   "file_extension": ".py",
   "mimetype": "text/x-python",
   "name": "python",
   "nbconvert_exporter": "python",
   "pygments_lexer": "ipython3",
   "version": "3.9.1"
  }
 },
 "nbformat": 4,
 "nbformat_minor": 4
}
